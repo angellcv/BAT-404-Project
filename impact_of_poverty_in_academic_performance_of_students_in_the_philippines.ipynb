{
  "nbformat": 4,
  "nbformat_minor": 0,
  "metadata": {
    "colab": {
      "name": "impact of poverty in academic performance of students in the philippines.ipynb",
      "provenance": [],
      "authorship_tag": "ABX9TyN3VQG06IcKZOGenAaO6ePO",
      "include_colab_link": true
    },
    "kernelspec": {
      "name": "python3",
      "display_name": "Python 3"
    },
    "language_info": {
      "name": "python"
    }
  },
  "cells": [
    {
      "cell_type": "markdown",
      "metadata": {
        "id": "view-in-github",
        "colab_type": "text"
      },
      "source": [
        "<a href=\"https://colab.research.google.com/github/angellcv/BAT-404-Project/blob/main/impact_of_poverty_in_academic_performance_of_students_in_the_philippines.ipynb\" target=\"_parent\"><img src=\"https://colab.research.google.com/assets/colab-badge.svg\" alt=\"Open In Colab\"/></a>"
      ]
    },
    {
      "cell_type": "markdown",
      "source": [
        "Impact of poverty in academic performance of students in the Philippines"
      ],
      "metadata": {
        "id": "jUFEaoyJrdXB"
      }
    }
  ]
}